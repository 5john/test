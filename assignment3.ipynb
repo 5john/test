{
 "cells": [
  {
   "cell_type": "markdown",
   "metadata": {},
   "source": [
    "### 基础作业\n",
    "\n",
    "#### 欧阳硕，18023034\n",
    "\n",
    "\n",
    "本作业已同步至[GitHub](https://github.com/Litt1e0range/Deep-Learning-Methods-and-Practices)\n",
    "\n",
    "---\n",
    "\n",
    "首先引入相关的模块，其中utils模块实现了`get_minibatch`、`get_mnist`等函数。"
   ]
  },
  {
   "cell_type": "code",
   "execution_count": 12,
   "metadata": {},
   "outputs": [],
   "source": [
    "import tensorflow as tf\n",
    "from model import Model\n",
    "from utils import get_minibatches,  pair_generator, get_mnist\n",
    "import numpy as np\n",
    "from tensorflow.examples.tutorials.mnist import input_data\n",
    "from sklearn.metrics import roc_curve, auc\n",
    "import matplotlib.pyplot as plt\n",
    "%matplotlib inline\n",
    "import time\n",
    "import warnings\n",
    "warnings.filterwarnings(\"ignore\")"
   ]
  },
  {
   "cell_type": "markdown",
   "metadata": {},
   "source": [
    "接下来实现基础作业的模型。首先实现输入数据和标签的占位符，注意这里两个输入总的维度是782，两个输入各占一半。私有函数`__linear_func`实现了矩阵乘法，并在`add_prediction_op`函数中进行变量共享。损失函数使用tensorflow自带的`softmax`损失函数。在训练过程中，每10个epoch进行一次测试，并将结果打印在屏幕上。"
   ]
  },
  {
   "cell_type": "code",
   "execution_count": 13,
   "metadata": {},
   "outputs": [],
   "source": [
    "class BasicModel(Model):\n",
    "    def __init__(self, config):\n",
    "        self.config = config\n",
    "        self.param = {}\n",
    "        self.build()\n",
    "    def add_placeholders(self):\n",
    "        self.inputs_placeholder_1 = tf.placeholder(tf.float32, [None, self.config.n_features // 2])\n",
    "        self.inputs_placeholder_2 = tf.placeholder(tf.float32, [None, self.config.n_features // 2])\n",
    "        self.labels_placeholder = tf.placeholder(tf.float32, [None, self.config.n_classes])\n",
    "    def create_feed_dict(self, inputs_batch_1, inputs_batch_2, labels_batch=None):\n",
    "        feed_dict = {\n",
    "            self.inputs_placeholder_1: inputs_batch_1,\n",
    "            self.inputs_placeholder_2: inputs_batch_2\n",
    "        }\n",
    "        if labels_batch is not None:\n",
    "            feed_dict[self.labels_placeholder] = labels_batch\n",
    "        return feed_dict\n",
    "    def __linear_func(self, X):\n",
    "        ans = None\n",
    "        W = tf.get_variable(\"W\", [self.config.n_features // 2, self.config.n_classes],\n",
    "                            dtype=tf.float32, initializer=tf.initializers.glorot_uniform)\n",
    "        ans = tf.matmul(X, W)\n",
    "        return ans\n",
    "    def add_prediction_op(self):\n",
    "        X_1 = self.inputs_placeholder_1\n",
    "        X_2 = self.inputs_placeholder_2\n",
    "        b = tf.Variable(tf.zeros([self.config.n_classes]), name=\"b\", dtype=tf.float32)\n",
    "        pred = None\n",
    "        with tf.variable_scope(\"first_layer\") as scope:\n",
    "            o_1 = self.__linear_func(X_1)\n",
    "            scope.reuse_variables()\n",
    "            o_2 = self.__linear_func(X_2)\n",
    "            pred = tf.nn.softmax(o_1 + o_2 + b)\n",
    "        return pred\n",
    "    def add_loss_op(self, pred):\n",
    "        y = self.labels_placeholder\n",
    "        loss = tf.reduce_mean(tf.losses.softmax_cross_entropy(y, pred))\n",
    "        return loss\n",
    "    def add_training_op(self, loss):\n",
    "        optimizer = tf.train.AdamOptimizer(self.config.lr)\n",
    "        train_op = optimizer.minimize(loss)\n",
    "        return train_op\n",
    "    def fit(self, sess, inputs_1, inputs_2, labels):\n",
    "        losses = []\n",
    "        for epoch in range(self.config.n_epochs):\n",
    "            start_time = time.time()\n",
    "            average_loss = self.run_epoch(sess, inputs_1, inputs_2, labels)\n",
    "            duration = time.time() - start_time\n",
    "            if epoch % 10 == 0:\n",
    "                y_pred = self.predict(sess, inputs_1, inputs_2)\n",
    "                accuracy = self.score(sess, labels, y_pred)\n",
    "                print(\"Epoch {:}: training loss = {:.6f}, training accuracy = {:.3f} ({:.3f} sec)\".format(\n",
    "                    epoch, average_loss, accuracy, duration))\n",
    "            losses.append(average_loss)\n",
    "        return losses\n",
    "    def predict(self, sess, inputs_1, inputs_2):\n",
    "        pred = []\n",
    "        for input_batch_1, input_batch_2 in get_minibatches([inputs_1, inputs_2], self.config.batch_size):\n",
    "            pred.extend(self.predict_on_batch(sess, input_batch_1, input_batch_2))\n",
    "        return np.array(pred)\n",
    "    def score(self, sess, labels, pred):\n",
    "        correct = tf.equal(tf.argmax(labels, 1), tf.argmax(pred, 1))\n",
    "        accuracy = tf.reduce_mean(tf.cast(correct, \"float\"))\n",
    "        acc = sess.run(accuracy)\n",
    "        return acc"
   ]
  },
  {
   "cell_type": "markdown",
   "metadata": {},
   "source": [
    "接下来实现配置类，所有的超参数都在该类中设置："
   ]
  },
  {
   "cell_type": "code",
   "execution_count": 14,
   "metadata": {},
   "outputs": [],
   "source": [
    "class Config():\n",
    "    def __init__(self, n_sampls=60000, n_features=784, n_classes=10, batch_size=64, n_epochs=2000, lr=1e-4, n_hidden=[128, 10]):\n",
    "        self.n_sampls = n_sampls\n",
    "        self.n_features = n_features\n",
    "        self.n_classes = n_classes\n",
    "        self.batch_size = batch_size\n",
    "        self.n_epochs = n_epochs\n",
    "        self.lr = lr\n",
    "        self.n_hidden = n_hidden"
   ]
  },
  {
   "cell_type": "markdown",
   "metadata": {},
   "source": [
    "下面实现基础作业的训练过程。根据配置类的参数可以看出，batch_size为128，学习率为0.01，一共训练200个epoch。训练结束后，将测试准确率打印在屏幕上。"
   ]
  },
  {
   "cell_type": "code",
   "execution_count": 15,
   "metadata": {},
   "outputs": [],
   "source": [
    "def basic_assignment():\n",
    "    X_train, X_test, y_train,  y_test = get_mnist()\n",
    "    config = Config(batch_size=128, lr=1e-2, n_epochs=200)\n",
    "    with tf.Graph().as_default() as graph:\n",
    "        model = BasicModel(config)\n",
    "        init_op = tf.global_variables_initializer()\n",
    "        with tf.Session(graph=graph) as sess:\n",
    "            sess.run(init_op)\n",
    "            sz = config.n_features // 2\n",
    "            model.fit(sess, X_train[:, :sz], X_train[:, sz:], y_train)\n",
    "            y_pred = model.predict(sess, X_test[:, :sz], X_test[:, sz:])\n",
    "            accuracy = model.score(sess, y_test, y_pred)\n",
    "            print(\"* Accuracy on test set = {:.3f}\".format(accuracy))"
   ]
  },
  {
   "cell_type": "markdown",
   "metadata": {},
   "source": [
    "运行该函数，得到如下结果。"
   ]
  },
  {
   "cell_type": "code",
   "execution_count": 16,
   "metadata": {},
   "outputs": [
    {
     "name": "stdout",
     "output_type": "stream",
     "text": [
      "Epoch 0: training loss = 1.693072, training accuracy = 0.818 (0.713 sec)\n",
      "Epoch 10: training loss = 1.552052, training accuracy = 0.910 (0.621 sec)\n",
      "Epoch 20: training loss = 1.546135, training accuracy = 0.916 (0.681 sec)\n",
      "Epoch 30: training loss = 1.543120, training accuracy = 0.914 (0.638 sec)\n",
      "Epoch 40: training loss = 1.540596, training accuracy = 0.916 (0.620 sec)\n",
      "Epoch 50: training loss = 1.538319, training accuracy = 0.918 (0.617 sec)\n",
      "Epoch 60: training loss = 1.536800, training accuracy = 0.918 (0.577 sec)\n",
      "Epoch 70: training loss = 1.536035, training accuracy = 0.917 (0.594 sec)\n",
      "Epoch 80: training loss = 1.535129, training accuracy = 0.921 (0.584 sec)\n",
      "Epoch 90: training loss = 1.534163, training accuracy = 0.920 (0.751 sec)\n",
      "Epoch 100: training loss = 1.533783, training accuracy = 0.920 (0.571 sec)\n",
      "Epoch 110: training loss = 1.533058, training accuracy = 0.923 (0.582 sec)\n",
      "Epoch 120: training loss = 1.532636, training accuracy = 0.923 (0.627 sec)\n",
      "Epoch 130: training loss = 1.531970, training accuracy = 0.924 (0.735 sec)\n",
      "Epoch 140: training loss = 1.531674, training accuracy = 0.924 (0.719 sec)\n",
      "Epoch 150: training loss = 1.531793, training accuracy = 0.925 (0.576 sec)\n",
      "Epoch 160: training loss = 1.531359, training accuracy = 0.927 (0.576 sec)\n",
      "Epoch 170: training loss = 1.531220, training accuracy = 0.927 (0.624 sec)\n",
      "Epoch 180: training loss = 1.530998, training accuracy = 0.926 (0.585 sec)\n",
      "Epoch 190: training loss = 1.530424, training accuracy = 0.927 (0.572 sec)\n",
      "* Accuracy on test set = 0.906\n"
     ]
    }
   ],
   "source": [
    "basic_assignment()"
   ]
  },
  {
   "cell_type": "markdown",
   "metadata": {},
   "source": [
    "可以看到，最终测试集上的准确率为0.906,效果还算不错。\n",
    "\n",
    "\n",
    "### 进阶作业\n",
    "---\n",
    "\n",
    "为进阶作业编三层网络模型，每一层都包含128个神经元，私有函数`__add_dense_layer`的功能是添加一个全连接层。这里为了方便训练，使用的损失函数为：\n",
    "\n",
    "$$\n",
    "L(W,Y,\\vec{X_1},\\vec{X_2}) = (1-Y)\\frac{1}{2}(E_W)^2 + (Y)\\frac{1}{2}\\{\\max(0,margin-E_W)\\}^2\n",
    "$$\n",
    "\n",
    "该损失函数参考[这篇文章](http://yann.lecun.com/exdb/publis/pdf/hadsell-chopra-lecun-06.pdf)"
   ]
  },
  {
   "cell_type": "code",
   "execution_count": 17,
   "metadata": {},
   "outputs": [],
   "source": [
    "class AdvancedModel(Model):\n",
    "    def __init__(self, config):\n",
    "        self.config = config\n",
    "        self.param = {}\n",
    "        super().__init__()\n",
    "    def add_placeholders(self):\n",
    "        self.inputs_placeholder_1 = tf.placeholder(tf.float32, [None, self.config.n_features])\n",
    "        self.inputs_placeholder_2 = tf.placeholder(tf.float32, [None, self.config.n_features])\n",
    "        self.labels_placeholder = tf.placeholder(tf.float32, [None, 1])\n",
    "    def create_feed_dict(self, inputs_batch_1, inputs_batch_2, labels_batch=None):\n",
    "        feed_dict = {\n",
    "            self.inputs_placeholder_1: inputs_batch_1,\n",
    "            self.inputs_placeholder_2: inputs_batch_2\n",
    "        }\n",
    "        if labels_batch is not None:\n",
    "            feed_dict[self.labels_placeholder] = labels_batch\n",
    "        return feed_dict\n",
    "    def __add_dense_layer(self, inputs, shape, activation=\"relu\", variable_scope=None):\n",
    "        W = tf.get_variable(variable_scope + \"/W\", [shape[0], shape[-1]], initializer=tf.initializers.glorot_uniform)\n",
    "        b = tf.get_variable(variable_scope + \"/b\", [shape[-1]], initializer=tf.initializers.zeros)\n",
    "        out = None\n",
    "        if activation == \"relu\":\n",
    "            out = tf.nn.relu(tf.matmul(inputs, W) + b)\n",
    "        elif activation == \"softmax\":\n",
    "            out = tf.nn.softmax(tf.matmul(inputs, W) + b)\n",
    "        elif activation == \"sigmoid\":\n",
    "            out = tf.nn.sigmoid(tf.matmul(inputs, W) + b)\n",
    "        return out\n",
    "    def add_prediction_op(self):\n",
    "        pred = None\n",
    "        X_1 = self.inputs_placeholder_1\n",
    "        X_2 = self.inputs_placeholder_2\n",
    "        with tf.variable_scope(\"input_layer\") as scope:\n",
    "            input_1 = self.__add_dense_layer(\n",
    "                X_1, [self.config.n_features, self.config.n_hidden[0]], variable_scope=\"input_layer\")\n",
    "            scope.reuse_variables()\n",
    "            input_2 = self.__add_dense_layer(\n",
    "                X_2, [self.config.n_features, self.config.n_hidden[0]], variable_scope=\"input_layer\")\n",
    "        with tf.variable_scope(\"hidden_layer\") as scope:\n",
    "            hidden_1 = self.__add_dense_layer(\n",
    "                input_1, [self.config.n_hidden[0], self.config.n_hidden[1]], variable_scope=\"hidden_layer\")\n",
    "            scope.reuse_variables()\n",
    "            hidden_2 = self.__add_dense_layer(\n",
    "                input_2, [self.config.n_hidden[0], self.config.n_hidden[1]], variable_scope=\"hidden_layer\")\n",
    "        with tf.variable_scope(\"output_layer\") as scope:\n",
    "            output_1 = self.__add_dense_layer(\n",
    "                hidden_1, [self.config.n_hidden[1], self.config.n_hidden[2]], activation=\"relu\", variable_scope=\"output_layer\")\n",
    "            scope.reuse_variables()\n",
    "            output_2 = self.__add_dense_layer(\n",
    "                hidden_2, [self.config.n_hidden[1], self.config.n_hidden[2]], activation=\"relu\", variable_scope=\"output_layer\")\n",
    "        sum_square = tf.reduce_sum(tf.square(output_1 - output_2), reduction_indices=[1], keepdims=True)\n",
    "        pred = tf.sqrt(tf.maximum(sum_square, tf.keras.backend.epsilon()))\n",
    "        return pred\n",
    "    def add_loss_op(self, pred):\n",
    "        Ew = pred\n",
    "        margin = 1\n",
    "        y = self.labels_placeholder\n",
    "        # margin = tf.constant(1, dtype=tf.float32, shape=[1])\n",
    "        # pos = tf.multiply(tf.multiply(1 - y, 2 / margin), tf.square(Ew))\n",
    "        # neg = tf.multiply(tf.multiply(y, 2 * margin), tf.exp(-2.77 / margin * Ew))\n",
    "        # loss = tf.reduce_mean(pos + neg)\n",
    "        square_pred = tf.square(Ew)\n",
    "        margin_square = tf.square(tf.maximum(margin - pred, 0))\n",
    "        loss = tf.reduce_mean(y * square_pred + (1 - y) * margin_square)\n",
    "        return loss\n",
    "    def add_training_op(self, loss):\n",
    "        optimizer = tf.train.AdamOptimizer(self.config.lr)\n",
    "        train_op = optimizer.minimize(loss)\n",
    "        return train_op\n",
    "\n",
    "    def fit(self, sess, inputs_1, inputs_2, labels):\n",
    "        losses = []\n",
    "        for epoch in range(self.config.n_epochs):\n",
    "            start_time = time.time()\n",
    "            average_loss = self.run_epoch(sess, inputs_1, inputs_2, labels)\n",
    "            duration = time.time() - start_time\n",
    "            if epoch % 1 == 0:\n",
    "                y_pred = self.predict(sess, inputs_1, inputs_2)\n",
    "                accuracy = self.score(sess, labels, y_pred)\n",
    "                print(\"Epoch {:}: training loss = {:.6f}, training accuracy = {:.3f} ({:.3f} sec)\".format(\n",
    "                    epoch, average_loss, accuracy, duration))\n",
    "            losses.append(average_loss)\n",
    "        return losses\n",
    "    def predict(self, sess, inputs_1, inputs_2):\n",
    "        pred = []\n",
    "        for input_batch_1, input_batch_2 in get_minibatches([inputs_1, inputs_2], self.config.batch_size):\n",
    "            pred.extend(self.predict_on_batch(sess, input_batch_1, input_batch_2))\n",
    "        return np.array(pred) < .5\n",
    "    def score(self, sess, labels, preds):\n",
    "        correct = tf.equal(tf.cast(labels, \"float\"), tf.cast(preds, \"float\"))\n",
    "        accuracy = tf.reduce_mean(tf.cast(correct, \"float\"))\n",
    "        acc = sess.run(accuracy)\n",
    "        return acc"
   ]
  },
  {
   "cell_type": "markdown",
   "metadata": {},
   "source": [
    "下面实现三层网络模型的训练过程，并画出测试集上的ROC曲线："
   ]
  },
  {
   "cell_type": "code",
   "execution_count": 18,
   "metadata": {},
   "outputs": [],
   "source": [
    "def advanced_assignment():\n",
    "    config = Config(batch_size=128, lr=1e-3, n_epochs=20, n_hidden=[128, 128, 128], n_classes=1)\n",
    "\n",
    "    (X_train, y_train), (X_test, y_test) = tf.keras.datasets.mnist.load_data(\n",
    "        r\"E:\\Deep-Learning-Methods-and-Practices\\assignment3\\data\\mnist.npz\")\n",
    "    X_train, y_train = pair_generator(X_train, y_train)\n",
    "    X_test, y_test = pair_generator(X_test, y_test)\n",
    "    with tf.Graph().as_default() as graph:\n",
    "        model = AdvancedModel(config)\n",
    "        init_op = tf.global_variables_initializer()\n",
    "        with tf.Session(graph=graph) as sess:\n",
    "            sess.run(init_op)\n",
    "            model.fit(sess, X_train[:, 0], X_train[:, 1], y_train)\n",
    "            y_pred = model.predict(sess, X_test[:, 0], X_test[:, 1])\n",
    "            accuracy = model.score(sess, y_test, y_pred)\n",
    "            print(\"* Accuracy on test set = {:.3f}\".format(accuracy))\n",
    "    fpr, tpr, _ = roc_curve(y_test, y_pred)\n",
    "    roc_auc = auc(fpr, tpr)\n",
    "    plt.figure()\n",
    "    lw = 2\n",
    "    plt.plot(fpr, tpr, color='darkorange', lw=lw, label='ROC curve (area = %0.2f)' % roc_auc)\n",
    "    plt.plot([0, 1], [0, 1], color='navy', lw=lw, linestyle='--')\n",
    "    plt.xlabel('False Positive Rate')\n",
    "    plt.ylabel('True Positive Rate')\n",
    "    plt.title('ROC Curve')\n",
    "    plt.legend(loc=\"best\")\n",
    "    plt.show()"
   ]
  },
  {
   "cell_type": "markdown",
   "metadata": {},
   "source": [
    "运行并查看结果："
   ]
  },
  {
   "cell_type": "code",
   "execution_count": 19,
   "metadata": {},
   "outputs": [
    {
     "name": "stdout",
     "output_type": "stream",
     "text": [
      "Epoch 0: training loss = 0.092577, training accuracy = 0.652 (4.305 sec)\n",
      "Epoch 1: training loss = 0.077159, training accuracy = 0.740 (3.902 sec)\n",
      "Epoch 2: training loss = 0.071687, training accuracy = 0.765 (4.134 sec)\n",
      "Epoch 3: training loss = 0.061909, training accuracy = 0.826 (4.272 sec)\n",
      "Epoch 4: training loss = 0.047333, training accuracy = 0.819 (3.985 sec)\n",
      "Epoch 5: training loss = 0.037705, training accuracy = 0.834 (4.084 sec)\n",
      "Epoch 6: training loss = 0.029507, training accuracy = 0.833 (4.102 sec)\n",
      "Epoch 7: training loss = 0.023830, training accuracy = 0.858 (4.367 sec)\n",
      "Epoch 8: training loss = 0.020609, training accuracy = 0.858 (4.065 sec)\n",
      "Epoch 9: training loss = 0.018103, training accuracy = 0.870 (4.137 sec)\n",
      "Epoch 10: training loss = 0.016009, training accuracy = 0.883 (4.157 sec)\n",
      "Epoch 11: training loss = 0.014832, training accuracy = 0.885 (3.914 sec)\n",
      "Epoch 12: training loss = 0.013225, training accuracy = 0.886 (4.133 sec)\n",
      "Epoch 13: training loss = 0.013657, training accuracy = 0.892 (4.190 sec)\n",
      "Epoch 14: training loss = 0.011389, training accuracy = 0.886 (3.842 sec)\n",
      "Epoch 15: training loss = 0.010526, training accuracy = 0.898 (4.101 sec)\n",
      "Epoch 16: training loss = 0.009902, training accuracy = 0.884 (4.184 sec)\n",
      "Epoch 17: training loss = 0.011680, training accuracy = 0.883 (4.679 sec)\n",
      "Epoch 18: training loss = 0.009842, training accuracy = 0.905 (4.492 sec)\n",
      "Epoch 19: training loss = 0.009055, training accuracy = 0.896 (4.208 sec)\n",
      "* Accuracy on test set = 0.889\n"
     ]
    },
    {
     "data": {
      "image/png": "[encoded data removed]",
      "text/plain": [
       "<Figure size 432x288 with 1 Axes>"
      ]
     },
     "metadata": {
      "needs_background": "light"
     },
     "output_type": "display_data"
    }
   ],
   "source": [
    "advanced_assignment()"
   ]
  }
 ],
 "metadata": {
  "kernelspec": {
   "display_name": "Python 3",
   "language": "python",
   "name": "python3"
  },
  "language_info": {
   "codemirror_mode": {
    "name": "ipython",
    "version": 3
   },
   "file_extension": ".py",
   "mimetype": "text/x-python",
   "name": "python",
   "nbconvert_exporter": "python",
   "pygments_lexer": "ipython3",
   "version": "3.6.4"
  }
 },
 "nbformat": 4,
 "nbformat_minor": 2
}
